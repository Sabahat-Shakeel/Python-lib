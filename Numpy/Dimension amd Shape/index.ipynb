{
 "cells": [
  {
   "cell_type": "markdown",
   "metadata": {},
   "source": [
    "# NumPy(Shape Function)\n",
    " - In NumPy, the `shape` function returns a tuple representing the dimensions of an array, indicating the size along each axis."
   ]
  },
  {
   "cell_type": "code",
   "execution_count": null,
   "metadata": {},
   "outputs": [],
   "source": [
    "import numpy as np"
   ]
  },
  {
   "cell_type": "markdown",
   "metadata": {},
   "source": [
    "## One Dimension Array"
   ]
  },
  {
   "cell_type": "code",
   "execution_count": 74,
   "metadata": {},
   "outputs": [
    {
     "name": "stdout",
     "output_type": "stream",
     "text": [
      "One dimension = 1\n",
      " This array has 6 elements = (6,)\n"
     ]
    }
   ],
   "source": [
    "one = np.array([1,2,3,4,5,6])\n",
    "print(f\"One dimension = {one.ndim}\")\n",
    "shape = np.shape(one)\n",
    "print(f\" This array has 6 elements = {shape}\")"
   ]
  },
  {
   "cell_type": "markdown",
   "metadata": {},
   "source": [
    "## Two Dimensions Array"
   ]
  },
  {
   "cell_type": "code",
   "execution_count": null,
   "metadata": {},
   "outputs": [
    {
     "name": "stdout",
     "output_type": "stream",
     "text": [
      "Two Dimensions = 2\n",
      "This array has 2 rows and 3 columns., (2, 3)\n"
     ]
    }
   ],
   "source": [
    "two = np.array([[1,2,3],[4,5,6]])\n",
    "print(f\"Two Dimensions = {two.ndim}\")\n",
    "shape = np.shape(two)\n",
    "print(f\"This array has 2 rows and 3 columns = {shape}\")"
   ]
  },
  {
   "cell_type": "markdown",
   "metadata": {},
   "source": [
    "## Three Dimensions Array"
   ]
  },
  {
   "cell_type": "code",
   "execution_count": 72,
   "metadata": {},
   "outputs": [
    {
     "name": "stdout",
     "output_type": "stream",
     "text": [
      "This array has 1 matrix, each with 2 rows and 3 columns = (1, 2, 3)\n"
     ]
    }
   ],
   "source": [
    "three = np.array([[[1,2,4], [4,5,6]]])\n",
    "shape = shape = np.shape(three)\n",
    "print(f\"This array has 1 matrix, each with 2 rows and 3 columns = {shape}\")"
   ]
  },
  {
   "cell_type": "code",
   "execution_count": null,
   "metadata": {},
   "outputs": [
    {
     "name": "stdout",
     "output_type": "stream",
     "text": [
      "3\n",
      "(1, 4, 4)\n"
     ]
    }
   ],
   "source": [
    "three = np.array([[[1,2,3,4], \n",
    "                   [3,4,5,5  ],\n",
    "                   [6,7,8,8 ],\n",
    "                   [8,9,0,0 ]\n",
    "                   ]])\n",
    "print(three.ndim)\n",
    "shape = np.shape(three)\n",
    "print(f\"this array has 1 matrix,4 rows and Each row has 4 columns = {shape}\")"
   ]
  },
  {
   "cell_type": "markdown",
   "metadata": {},
   "source": [
    "## Four Dimensions Array\n"
   ]
  },
  {
   "cell_type": "code",
   "execution_count": null,
   "metadata": {},
   "outputs": [
    {
     "name": "stdout",
     "output_type": "stream",
     "text": [
      "4\n",
      "1 matrix then 1 second 1 is sub matrix, Two rows in the sub-block(matrix), Four elements in each row = (1, 1, 2, 4)\n"
     ]
    }
   ],
   "source": [
    "four = np.array([[[[1,2,3,5], [4,5,6,7]]]])\n",
    "print(four.ndim)\n",
    "shape = np.shape(four)\n",
    "print(f\"1 matrix then second 1 is sub matrix, Two rows in the sub-block(matrix), Four elements in each row = {shape}\")"
   ]
  }
 ],
 "metadata": {
  "kernelspec": {
   "display_name": "Python 3",
   "language": "python",
   "name": "python3"
  },
  "language_info": {
   "codemirror_mode": {
    "name": "ipython",
    "version": 3
   },
   "file_extension": ".py",
   "mimetype": "text/x-python",
   "name": "python",
   "nbconvert_exporter": "python",
   "pygments_lexer": "ipython3",
   "version": "3.12.5"
  }
 },
 "nbformat": 4,
 "nbformat_minor": 4
}
